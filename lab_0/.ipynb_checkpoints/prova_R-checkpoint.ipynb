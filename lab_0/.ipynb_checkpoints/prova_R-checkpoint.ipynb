{
 "cells": [
  {
   "cell_type": "markdown",
   "id": "544a3f66-51de-401f-b2f2-27a44412166a",
   "metadata": {},
   "source": [
    "# LAB_0"
   ]
  },
  {
   "cell_type": "markdown",
   "id": "aee24d94-c35c-4a3f-8c31-9480a4e62493",
   "metadata": {},
   "source": [
    "## EXERCISE 1"
   ]
  },
  {
   "cell_type": "code",
   "execution_count": 7,
   "id": "60426e6a-cd02-4659-b4b7-91afc9077a0e",
   "metadata": {},
   "outputs": [
    {
     "data": {
      "text/html": [
       "<table class=\"dataframe\">\n",
       "<caption>A data.frame: 13 × 11</caption>\n",
       "<thead>\n",
       "\t<tr><th scope=col>Loch</th><th scope=col>vol_km3</th><th scope=col>vol_mi3</th><th scope=col>area_km2</th><th scope=col>area_mi2</th><th scope=col>length_km</th><th scope=col>length_mi</th><th scope=col>max_depth_m</th><th scope=col>max_depth_ft</th><th scope=col>mean_depth_m</th><th scope=col>mean_depth_ft</th></tr>\n",
       "\t<tr><th scope=col>&lt;chr&gt;</th><th scope=col>&lt;dbl&gt;</th><th scope=col>&lt;dbl&gt;</th><th scope=col>&lt;dbl&gt;</th><th scope=col>&lt;dbl&gt;</th><th scope=col>&lt;dbl&gt;</th><th scope=col>&lt;dbl&gt;</th><th scope=col>&lt;int&gt;</th><th scope=col>&lt;chr&gt;</th><th scope=col>&lt;dbl&gt;</th><th scope=col>&lt;int&gt;</th></tr>\n",
       "</thead>\n",
       "<tbody>\n",
       "\t<tr><td>Loch_Ness   </td><td>7.45</td><td>1.790</td><td>56.0</td><td>22.0</td><td>36.2</td><td>22.5</td><td>227</td><td>745  </td><td>132.0</td><td>433</td></tr>\n",
       "\t<tr><td>Loch_Lomond </td><td>2.60</td><td>0.620</td><td>71.0</td><td>27.0</td><td>36.0</td><td>22.0</td><td>190</td><td>620  </td><td> 37.0</td><td>121</td></tr>\n",
       "\t<tr><td>Loch_Morar  </td><td>2.30</td><td>0.550</td><td>26.7</td><td>10.3</td><td>18.8</td><td>11.7</td><td>310</td><td>1,020</td><td> 87.0</td><td>285</td></tr>\n",
       "\t<tr><td>Loch_Tay    </td><td>1.60</td><td>0.380</td><td>26.4</td><td>10.2</td><td>23.0</td><td>14.0</td><td>150</td><td>490  </td><td> 60.6</td><td>199</td></tr>\n",
       "\t<tr><td>Loch_Awe    </td><td>1.20</td><td>0.290</td><td>39.0</td><td>15.0</td><td>41.0</td><td>25.0</td><td> 94</td><td>308  </td><td> 32.0</td><td>105</td></tr>\n",
       "\t<tr><td>Loch_Maree  </td><td>1.09</td><td>0.260</td><td>28.6</td><td>11.0</td><td>20.0</td><td>12.0</td><td>114</td><td>374  </td><td> 38.0</td><td>125</td></tr>\n",
       "\t<tr><td>Loch_Ericht </td><td>1.08</td><td>0.260</td><td>18.6</td><td> 7.2</td><td>23.0</td><td>14.0</td><td>156</td><td>512  </td><td> 57.6</td><td>189</td></tr>\n",
       "\t<tr><td>Loch_Lochy  </td><td>1.07</td><td>0.260</td><td>16.0</td><td> 6.2</td><td>16.0</td><td> 9.9</td><td>162</td><td>531  </td><td> 70.0</td><td>230</td></tr>\n",
       "\t<tr><td>Loch_Rannoch</td><td>0.97</td><td>0.230</td><td>19.0</td><td> 7.3</td><td>15.7</td><td> 9.8</td><td>134</td><td>440  </td><td> 51.0</td><td>167</td></tr>\n",
       "\t<tr><td>Loch_Shiel  </td><td>0.79</td><td>0.190</td><td>19.5</td><td> 7.5</td><td>28.0</td><td>17.0</td><td>128</td><td>420  </td><td> 40.0</td><td>130</td></tr>\n",
       "\t<tr><td>Loch_Katrine</td><td>0.77</td><td>0.180</td><td>12.4</td><td> 4.8</td><td>12.9</td><td> 8.0</td><td>151</td><td>495  </td><td> 43.4</td><td>142</td></tr>\n",
       "\t<tr><td>Loch_Arkaig </td><td>0.75</td><td>0.180</td><td>16.0</td><td> 6.2</td><td>19.3</td><td>12.0</td><td>109</td><td>358  </td><td> 46.5</td><td>153</td></tr>\n",
       "\t<tr><td>Loch_Shin   </td><td>0.35</td><td>0.084</td><td>22.5</td><td> 8.7</td><td>27.8</td><td>17.3</td><td> 49</td><td>161  </td><td> 15.5</td><td> 51</td></tr>\n",
       "</tbody>\n",
       "</table>\n"
      ],
      "text/latex": [
       "A data.frame: 13 × 11\n",
       "\\begin{tabular}{lllllllllll}\n",
       " Loch & vol\\_km3 & vol\\_mi3 & area\\_km2 & area\\_mi2 & length\\_km & length\\_mi & max\\_depth\\_m & max\\_depth\\_ft & mean\\_depth\\_m & mean\\_depth\\_ft\\\\\n",
       " <chr> & <dbl> & <dbl> & <dbl> & <dbl> & <dbl> & <dbl> & <int> & <chr> & <dbl> & <int>\\\\\n",
       "\\hline\n",
       "\t Loch\\_Ness    & 7.45 & 1.790 & 56.0 & 22.0 & 36.2 & 22.5 & 227 & 745   & 132.0 & 433\\\\\n",
       "\t Loch\\_Lomond  & 2.60 & 0.620 & 71.0 & 27.0 & 36.0 & 22.0 & 190 & 620   &  37.0 & 121\\\\\n",
       "\t Loch\\_Morar   & 2.30 & 0.550 & 26.7 & 10.3 & 18.8 & 11.7 & 310 & 1,020 &  87.0 & 285\\\\\n",
       "\t Loch\\_Tay     & 1.60 & 0.380 & 26.4 & 10.2 & 23.0 & 14.0 & 150 & 490   &  60.6 & 199\\\\\n",
       "\t Loch\\_Awe     & 1.20 & 0.290 & 39.0 & 15.0 & 41.0 & 25.0 &  94 & 308   &  32.0 & 105\\\\\n",
       "\t Loch\\_Maree   & 1.09 & 0.260 & 28.6 & 11.0 & 20.0 & 12.0 & 114 & 374   &  38.0 & 125\\\\\n",
       "\t Loch\\_Ericht  & 1.08 & 0.260 & 18.6 &  7.2 & 23.0 & 14.0 & 156 & 512   &  57.6 & 189\\\\\n",
       "\t Loch\\_Lochy   & 1.07 & 0.260 & 16.0 &  6.2 & 16.0 &  9.9 & 162 & 531   &  70.0 & 230\\\\\n",
       "\t Loch\\_Rannoch & 0.97 & 0.230 & 19.0 &  7.3 & 15.7 &  9.8 & 134 & 440   &  51.0 & 167\\\\\n",
       "\t Loch\\_Shiel   & 0.79 & 0.190 & 19.5 &  7.5 & 28.0 & 17.0 & 128 & 420   &  40.0 & 130\\\\\n",
       "\t Loch\\_Katrine & 0.77 & 0.180 & 12.4 &  4.8 & 12.9 &  8.0 & 151 & 495   &  43.4 & 142\\\\\n",
       "\t Loch\\_Arkaig  & 0.75 & 0.180 & 16.0 &  6.2 & 19.3 & 12.0 & 109 & 358   &  46.5 & 153\\\\\n",
       "\t Loch\\_Shin    & 0.35 & 0.084 & 22.5 &  8.7 & 27.8 & 17.3 &  49 & 161   &  15.5 &  51\\\\\n",
       "\\end{tabular}\n"
      ],
      "text/markdown": [
       "\n",
       "A data.frame: 13 × 11\n",
       "\n",
       "| Loch &lt;chr&gt; | vol_km3 &lt;dbl&gt; | vol_mi3 &lt;dbl&gt; | area_km2 &lt;dbl&gt; | area_mi2 &lt;dbl&gt; | length_km &lt;dbl&gt; | length_mi &lt;dbl&gt; | max_depth_m &lt;int&gt; | max_depth_ft &lt;chr&gt; | mean_depth_m &lt;dbl&gt; | mean_depth_ft &lt;int&gt; |\n",
       "|---|---|---|---|---|---|---|---|---|---|---|\n",
       "| Loch_Ness    | 7.45 | 1.790 | 56.0 | 22.0 | 36.2 | 22.5 | 227 | 745   | 132.0 | 433 |\n",
       "| Loch_Lomond  | 2.60 | 0.620 | 71.0 | 27.0 | 36.0 | 22.0 | 190 | 620   |  37.0 | 121 |\n",
       "| Loch_Morar   | 2.30 | 0.550 | 26.7 | 10.3 | 18.8 | 11.7 | 310 | 1,020 |  87.0 | 285 |\n",
       "| Loch_Tay     | 1.60 | 0.380 | 26.4 | 10.2 | 23.0 | 14.0 | 150 | 490   |  60.6 | 199 |\n",
       "| Loch_Awe     | 1.20 | 0.290 | 39.0 | 15.0 | 41.0 | 25.0 |  94 | 308   |  32.0 | 105 |\n",
       "| Loch_Maree   | 1.09 | 0.260 | 28.6 | 11.0 | 20.0 | 12.0 | 114 | 374   |  38.0 | 125 |\n",
       "| Loch_Ericht  | 1.08 | 0.260 | 18.6 |  7.2 | 23.0 | 14.0 | 156 | 512   |  57.6 | 189 |\n",
       "| Loch_Lochy   | 1.07 | 0.260 | 16.0 |  6.2 | 16.0 |  9.9 | 162 | 531   |  70.0 | 230 |\n",
       "| Loch_Rannoch | 0.97 | 0.230 | 19.0 |  7.3 | 15.7 |  9.8 | 134 | 440   |  51.0 | 167 |\n",
       "| Loch_Shiel   | 0.79 | 0.190 | 19.5 |  7.5 | 28.0 | 17.0 | 128 | 420   |  40.0 | 130 |\n",
       "| Loch_Katrine | 0.77 | 0.180 | 12.4 |  4.8 | 12.9 |  8.0 | 151 | 495   |  43.4 | 142 |\n",
       "| Loch_Arkaig  | 0.75 | 0.180 | 16.0 |  6.2 | 19.3 | 12.0 | 109 | 358   |  46.5 | 153 |\n",
       "| Loch_Shin    | 0.35 | 0.084 | 22.5 |  8.7 | 27.8 | 17.3 |  49 | 161   |  15.5 |  51 |\n",
       "\n"
      ],
      "text/plain": [
       "   Loch         vol_km3 vol_mi3 area_km2 area_mi2 length_km length_mi\n",
       "1  Loch_Ness    7.45    1.790   56.0     22.0     36.2      22.5     \n",
       "2  Loch_Lomond  2.60    0.620   71.0     27.0     36.0      22.0     \n",
       "3  Loch_Morar   2.30    0.550   26.7     10.3     18.8      11.7     \n",
       "4  Loch_Tay     1.60    0.380   26.4     10.2     23.0      14.0     \n",
       "5  Loch_Awe     1.20    0.290   39.0     15.0     41.0      25.0     \n",
       "6  Loch_Maree   1.09    0.260   28.6     11.0     20.0      12.0     \n",
       "7  Loch_Ericht  1.08    0.260   18.6      7.2     23.0      14.0     \n",
       "8  Loch_Lochy   1.07    0.260   16.0      6.2     16.0       9.9     \n",
       "9  Loch_Rannoch 0.97    0.230   19.0      7.3     15.7       9.8     \n",
       "10 Loch_Shiel   0.79    0.190   19.5      7.5     28.0      17.0     \n",
       "11 Loch_Katrine 0.77    0.180   12.4      4.8     12.9       8.0     \n",
       "12 Loch_Arkaig  0.75    0.180   16.0      6.2     19.3      12.0     \n",
       "13 Loch_Shin    0.35    0.084   22.5      8.7     27.8      17.3     \n",
       "   max_depth_m max_depth_ft mean_depth_m mean_depth_ft\n",
       "1  227         745          132.0        433          \n",
       "2  190         620           37.0        121          \n",
       "3  310         1,020         87.0        285          \n",
       "4  150         490           60.6        199          \n",
       "5   94         308           32.0        105          \n",
       "6  114         374           38.0        125          \n",
       "7  156         512           57.6        189          \n",
       "8  162         531           70.0        230          \n",
       "9  134         440           51.0        167          \n",
       "10 128         420           40.0        130          \n",
       "11 151         495           43.4        142          \n",
       "12 109         358           46.5        153          \n",
       "13  49         161           15.5         51          "
      ]
     },
     "metadata": {},
     "output_type": "display_data"
    }
   ],
   "source": [
    "data <- read.table(\"data_1.txt\", header=T)\n",
    "data"
   ]
  },
  {
   "cell_type": "code",
   "execution_count": 11,
   "id": "600bfe47-762f-42da-bd06-8a8dff8fca22",
   "metadata": {},
   "outputs": [
    {
     "data": {
      "text/html": [
       "7.45"
      ],
      "text/latex": [
       "7.45"
      ],
      "text/markdown": [
       "7.45"
      ],
      "text/plain": [
       "[1] 7.45"
      ]
     },
     "metadata": {},
     "output_type": "display_data"
    }
   ],
   "source": [
    "max(data[\"vol_km3\"])"
   ]
  },
  {
   "cell_type": "code",
   "execution_count": 12,
   "id": "c4c66e6e-c097-46ff-b14f-d80dff9de51d",
   "metadata": {},
   "outputs": [
    {
     "data": {
      "text/html": [
       "0.35"
      ],
      "text/latex": [
       "0.35"
      ],
      "text/markdown": [
       "0.35"
      ],
      "text/plain": [
       "[1] 0.35"
      ]
     },
     "metadata": {},
     "output_type": "display_data"
    }
   ],
   "source": [
    "min(data[\"vol_km3\"])"
   ]
  },
  {
   "cell_type": "code",
   "execution_count": 19,
   "id": "b3d34d68-2f26-4faf-ba2d-37d77c5dcf8e",
   "metadata": {},
   "outputs": [
    {
     "data": {
      "text/html": [
       "<style>\n",
       ".list-inline {list-style: none; margin:0; padding: 0}\n",
       ".list-inline>li {display: inline-block}\n",
       ".list-inline>li:not(:last-child)::after {content: \"\\00b7\"; padding: 0 .5ex}\n",
       "</style>\n",
       "<ol class=list-inline><li>12.4</li><li>16</li><li>16</li><li>18.6</li><li>19</li><li>19.5</li><li>22.5</li><li>26.4</li><li>26.7</li><li>28.6</li><li>39</li><li>56</li><li>71</li></ol>\n"
      ],
      "text/latex": [
       "\\begin{enumerate*}\n",
       "\\item 12.4\n",
       "\\item 16\n",
       "\\item 16\n",
       "\\item 18.6\n",
       "\\item 19\n",
       "\\item 19.5\n",
       "\\item 22.5\n",
       "\\item 26.4\n",
       "\\item 26.7\n",
       "\\item 28.6\n",
       "\\item 39\n",
       "\\item 56\n",
       "\\item 71\n",
       "\\end{enumerate*}\n"
      ],
      "text/markdown": [
       "1. 12.4\n",
       "2. 16\n",
       "3. 16\n",
       "4. 18.6\n",
       "5. 19\n",
       "6. 19.5\n",
       "7. 22.5\n",
       "8. 26.4\n",
       "9. 26.7\n",
       "10. 28.6\n",
       "11. 39\n",
       "12. 56\n",
       "13. 71\n",
       "\n",
       "\n"
      ],
      "text/plain": [
       " [1] 12.4 16.0 16.0 18.6 19.0 19.5 22.5 26.4 26.7 28.6 39.0 56.0 71.0"
      ]
     },
     "metadata": {},
     "output_type": "display_data"
    }
   ],
   "source": [
    "sorted_area <- sort(data[[\"area_km2\"]])\n",
    "sorted_area"
   ]
  },
  {
   "cell_type": "code",
   "execution_count": 16,
   "id": "0bcae7d4-b07e-4e20-8129-ed6426614f69",
   "metadata": {},
   "outputs": [
    {
     "data": {
      "text/html": [
       "12.4"
      ],
      "text/latex": [
       "12.4"
      ],
      "text/markdown": [
       "12.4"
      ],
      "text/plain": [
       "[1] 12.4"
      ]
     },
     "metadata": {},
     "output_type": "display_data"
    }
   ],
   "source": [
    "sorted_area[1]"
   ]
  },
  {
   "cell_type": "code",
   "execution_count": 18,
   "id": "746435c7-1fd9-4c68-a627-95beb81a75ab",
   "metadata": {},
   "outputs": [
    {
     "data": {
      "text/html": [
       "71"
      ],
      "text/latex": [
       "71"
      ],
      "text/markdown": [
       "71"
      ],
      "text/plain": [
       "[1] 71"
      ]
     },
     "metadata": {},
     "output_type": "display_data"
    }
   ],
   "source": [
    "sorted_area[13]"
   ]
  },
  {
   "cell_type": "code",
   "execution_count": 20,
   "id": "1a3fbead-fcbf-4997-9cd6-80b920b5779a",
   "metadata": {},
   "outputs": [
    {
     "data": {
      "text/html": [
       "371.7"
      ],
      "text/latex": [
       "371.7"
      ],
      "text/markdown": [
       "371.7"
      ],
      "text/plain": [
       "[1] 371.7"
      ]
     },
     "metadata": {},
     "output_type": "display_data"
    }
   ],
   "source": [
    "sum(data[\"area_km2\"])"
   ]
  },
  {
   "cell_type": "markdown",
   "id": "d16d52ee-1a7c-46fd-9abf-b817355718a8",
   "metadata": {},
   "source": [
    "## EXERCISE 2"
   ]
  },
  {
   "cell_type": "code",
   "execution_count": 21,
   "id": "ab8353b9-9567-4f52-a0ef-fe3b1997c0c3",
   "metadata": {},
   "outputs": [
    {
     "ename": "ERROR",
     "evalue": "Error in parse(text = x, srcfile = src): <text>:2:9: input inatteso\n1: men100m_html <- read_html(\"http://www .alltime-athletics.com/m_100ok.htm\")\n2: men100m _\n           ^\n",
     "output_type": "error",
     "traceback": [
      "Error in parse(text = x, srcfile = src): <text>:2:9: input inatteso\n1: men100m_html <- read_html(\"http://www .alltime-athletics.com/m_100ok.htm\")\n2: men100m _\n           ^\nTraceback:\n"
     ]
    }
   ],
   "source": [
    "men100m_html <- read_html(\"http://www .alltime-athletics.com/m_100ok.htm\")\n",
    "men100m _html |> html_nodes(xpath = \"//pre\") |> html_text() -> men100m_list\n",
    "men100m_tbl <- read_fwf(men100m_list)"
   ]
  }
 ],
 "metadata": {
  "kernelspec": {
   "display_name": "R",
   "language": "R",
   "name": "ir"
  },
  "language_info": {
   "codemirror_mode": "r",
   "file_extension": ".r",
   "mimetype": "text/x-r-source",
   "name": "R",
   "pygments_lexer": "r",
   "version": "4.3.1"
  }
 },
 "nbformat": 4,
 "nbformat_minor": 5
}
